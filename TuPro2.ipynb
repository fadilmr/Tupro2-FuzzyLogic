{
  "nbformat": 4,
  "nbformat_minor": 0,
  "metadata": {
    "colab": {
      "name": "TuPro2.ipynb",
      "provenance": [],
      "collapsed_sections": []
    },
    "kernelspec": {
      "name": "python3",
      "display_name": "Python 3"
    },
    "language_info": {
      "name": "python"
    }
  },
  "cells": [
    {
      "cell_type": "markdown",
      "source": [
        "# Kelompok AI - IF 44-04\n",
        "\n",
        "\n",
        "*   Arsy Bagja Mugia Gunawan - 1301204018\n",
        "*   Muhammad Fadil Maulana Akbar - 1301204297\n",
        "*   Muhammad Sayyid Aqilah - 1301204047\n"
      ],
      "metadata": {
        "id": "nXNNvIqg0XKH"
      }
    },
    {
      "cell_type": "code",
      "execution_count": 1,
      "metadata": {
        "id": "dZ21Cw03Kh3P"
      },
      "outputs": [],
      "source": [
        "import pandas as pd\n",
        "import numpy as np\n",
        "import matplotlib.pyplot as plt"
      ]
    },
    {
      "cell_type": "code",
      "source": [
        "from google.colab import files\n",
        "uploaded = files.upload()\n",
        "dataset = pd.read_excel(\"bengkel.xlsx\")\n",
        "dataset"
      ],
      "metadata": {
        "colab": {
          "resources": {
            "http://localhost:8080/nbextensions/google.colab/files.js": {
              "data": "Ly8gQ29weXJpZ2h0IDIwMTcgR29vZ2xlIExMQwovLwovLyBMaWNlbnNlZCB1bmRlciB0aGUgQXBhY2hlIExpY2Vuc2UsIFZlcnNpb24gMi4wICh0aGUgIkxpY2Vuc2UiKTsKLy8geW91IG1heSBub3QgdXNlIHRoaXMgZmlsZSBleGNlcHQgaW4gY29tcGxpYW5jZSB3aXRoIHRoZSBMaWNlbnNlLgovLyBZb3UgbWF5IG9idGFpbiBhIGNvcHkgb2YgdGhlIExpY2Vuc2UgYXQKLy8KLy8gICAgICBodHRwOi8vd3d3LmFwYWNoZS5vcmcvbGljZW5zZXMvTElDRU5TRS0yLjAKLy8KLy8gVW5sZXNzIHJlcXVpcmVkIGJ5IGFwcGxpY2FibGUgbGF3IG9yIGFncmVlZCB0byBpbiB3cml0aW5nLCBzb2Z0d2FyZQovLyBkaXN0cmlidXRlZCB1bmRlciB0aGUgTGljZW5zZSBpcyBkaXN0cmlidXRlZCBvbiBhbiAiQVMgSVMiIEJBU0lTLAovLyBXSVRIT1VUIFdBUlJBTlRJRVMgT1IgQ09ORElUSU9OUyBPRiBBTlkgS0lORCwgZWl0aGVyIGV4cHJlc3Mgb3IgaW1wbGllZC4KLy8gU2VlIHRoZSBMaWNlbnNlIGZvciB0aGUgc3BlY2lmaWMgbGFuZ3VhZ2UgZ292ZXJuaW5nIHBlcm1pc3Npb25zIGFuZAovLyBsaW1pdGF0aW9ucyB1bmRlciB0aGUgTGljZW5zZS4KCi8qKgogKiBAZmlsZW92ZXJ2aWV3IEhlbHBlcnMgZm9yIGdvb2dsZS5jb2xhYiBQeXRob24gbW9kdWxlLgogKi8KKGZ1bmN0aW9uKHNjb3BlKSB7CmZ1bmN0aW9uIHNwYW4odGV4dCwgc3R5bGVBdHRyaWJ1dGVzID0ge30pIHsKICBjb25zdCBlbGVtZW50ID0gZG9jdW1lbnQuY3JlYXRlRWxlbWVudCgnc3BhbicpOwogIGVsZW1lbnQudGV4dENvbnRlbnQgPSB0ZXh0OwogIGZvciAoY29uc3Qga2V5IG9mIE9iamVjdC5rZXlzKHN0eWxlQXR0cmlidXRlcykpIHsKICAgIGVsZW1lbnQuc3R5bGVba2V5XSA9IHN0eWxlQXR0cmlidXRlc1trZXldOwogIH0KICByZXR1cm4gZWxlbWVudDsKfQoKLy8gTWF4IG51bWJlciBvZiBieXRlcyB3aGljaCB3aWxsIGJlIHVwbG9hZGVkIGF0IGEgdGltZS4KY29uc3QgTUFYX1BBWUxPQURfU0laRSA9IDEwMCAqIDEwMjQ7CgpmdW5jdGlvbiBfdXBsb2FkRmlsZXMoaW5wdXRJZCwgb3V0cHV0SWQpIHsKICBjb25zdCBzdGVwcyA9IHVwbG9hZEZpbGVzU3RlcChpbnB1dElkLCBvdXRwdXRJZCk7CiAgY29uc3Qgb3V0cHV0RWxlbWVudCA9IGRvY3VtZW50LmdldEVsZW1lbnRCeUlkKG91dHB1dElkKTsKICAvLyBDYWNoZSBzdGVwcyBvbiB0aGUgb3V0cHV0RWxlbWVudCB0byBtYWtlIGl0IGF2YWlsYWJsZSBmb3IgdGhlIG5leHQgY2FsbAogIC8vIHRvIHVwbG9hZEZpbGVzQ29udGludWUgZnJvbSBQeXRob24uCiAgb3V0cHV0RWxlbWVudC5zdGVwcyA9IHN0ZXBzOwoKICByZXR1cm4gX3VwbG9hZEZpbGVzQ29udGludWUob3V0cHV0SWQpOwp9CgovLyBUaGlzIGlzIHJvdWdobHkgYW4gYXN5bmMgZ2VuZXJhdG9yIChub3Qgc3VwcG9ydGVkIGluIHRoZSBicm93c2VyIHlldCksCi8vIHdoZXJlIHRoZXJlIGFyZSBtdWx0aXBsZSBhc3luY2hyb25vdXMgc3RlcHMgYW5kIHRoZSBQeXRob24gc2lkZSBpcyBnb2luZwovLyB0byBwb2xsIGZvciBjb21wbGV0aW9uIG9mIGVhY2ggc3RlcC4KLy8gVGhpcyB1c2VzIGEgUHJvbWlzZSB0byBibG9jayB0aGUgcHl0aG9uIHNpZGUgb24gY29tcGxldGlvbiBvZiBlYWNoIHN0ZXAsCi8vIHRoZW4gcGFzc2VzIHRoZSByZXN1bHQgb2YgdGhlIHByZXZpb3VzIHN0ZXAgYXMgdGhlIGlucHV0IHRvIHRoZSBuZXh0IHN0ZXAuCmZ1bmN0aW9uIF91cGxvYWRGaWxlc0NvbnRpbnVlKG91dHB1dElkKSB7CiAgY29uc3Qgb3V0cHV0RWxlbWVudCA9IGRvY3VtZW50LmdldEVsZW1lbnRCeUlkKG91dHB1dElkKTsKICBjb25zdCBzdGVwcyA9IG91dHB1dEVsZW1lbnQuc3RlcHM7CgogIGNvbnN0IG5leHQgPSBzdGVwcy5uZXh0KG91dHB1dEVsZW1lbnQubGFzdFByb21pc2VWYWx1ZSk7CiAgcmV0dXJuIFByb21pc2UucmVzb2x2ZShuZXh0LnZhbHVlLnByb21pc2UpLnRoZW4oKHZhbHVlKSA9PiB7CiAgICAvLyBDYWNoZSB0aGUgbGFzdCBwcm9taXNlIHZhbHVlIHRvIG1ha2UgaXQgYXZhaWxhYmxlIHRvIHRoZSBuZXh0CiAgICAvLyBzdGVwIG9mIHRoZSBnZW5lcmF0b3IuCiAgICBvdXRwdXRFbGVtZW50Lmxhc3RQcm9taXNlVmFsdWUgPSB2YWx1ZTsKICAgIHJldHVybiBuZXh0LnZhbHVlLnJlc3BvbnNlOwogIH0pOwp9CgovKioKICogR2VuZXJhdG9yIGZ1bmN0aW9uIHdoaWNoIGlzIGNhbGxlZCBiZXR3ZWVuIGVhY2ggYXN5bmMgc3RlcCBvZiB0aGUgdXBsb2FkCiAqIHByb2Nlc3MuCiAqIEBwYXJhbSB7c3RyaW5nfSBpbnB1dElkIEVsZW1lbnQgSUQgb2YgdGhlIGlucHV0IGZpbGUgcGlja2VyIGVsZW1lbnQuCiAqIEBwYXJhbSB7c3RyaW5nfSBvdXRwdXRJZCBFbGVtZW50IElEIG9mIHRoZSBvdXRwdXQgZGlzcGxheS4KICogQHJldHVybiB7IUl0ZXJhYmxlPCFPYmplY3Q+fSBJdGVyYWJsZSBvZiBuZXh0IHN0ZXBzLgogKi8KZnVuY3Rpb24qIHVwbG9hZEZpbGVzU3RlcChpbnB1dElkLCBvdXRwdXRJZCkgewogIGNvbnN0IGlucHV0RWxlbWVudCA9IGRvY3VtZW50LmdldEVsZW1lbnRCeUlkKGlucHV0SWQpOwogIGlucHV0RWxlbWVudC5kaXNhYmxlZCA9IGZhbHNlOwoKICBjb25zdCBvdXRwdXRFbGVtZW50ID0gZG9jdW1lbnQuZ2V0RWxlbWVudEJ5SWQob3V0cHV0SWQpOwogIG91dHB1dEVsZW1lbnQuaW5uZXJIVE1MID0gJyc7CgogIGNvbnN0IHBpY2tlZFByb21pc2UgPSBuZXcgUHJvbWlzZSgocmVzb2x2ZSkgPT4gewogICAgaW5wdXRFbGVtZW50LmFkZEV2ZW50TGlzdGVuZXIoJ2NoYW5nZScsIChlKSA9PiB7CiAgICAgIHJlc29sdmUoZS50YXJnZXQuZmlsZXMpOwogICAgfSk7CiAgfSk7CgogIGNvbnN0IGNhbmNlbCA9IGRvY3VtZW50LmNyZWF0ZUVsZW1lbnQoJ2J1dHRvbicpOwogIGlucHV0RWxlbWVudC5wYXJlbnRFbGVtZW50LmFwcGVuZENoaWxkKGNhbmNlbCk7CiAgY2FuY2VsLnRleHRDb250ZW50ID0gJ0NhbmNlbCB1cGxvYWQnOwogIGNvbnN0IGNhbmNlbFByb21pc2UgPSBuZXcgUHJvbWlzZSgocmVzb2x2ZSkgPT4gewogICAgY2FuY2VsLm9uY2xpY2sgPSAoKSA9PiB7CiAgICAgIHJlc29sdmUobnVsbCk7CiAgICB9OwogIH0pOwoKICAvLyBXYWl0IGZvciB0aGUgdXNlciB0byBwaWNrIHRoZSBmaWxlcy4KICBjb25zdCBmaWxlcyA9IHlpZWxkIHsKICAgIHByb21pc2U6IFByb21pc2UucmFjZShbcGlja2VkUHJvbWlzZSwgY2FuY2VsUHJvbWlzZV0pLAogICAgcmVzcG9uc2U6IHsKICAgICAgYWN0aW9uOiAnc3RhcnRpbmcnLAogICAgfQogIH07CgogIGNhbmNlbC5yZW1vdmUoKTsKCiAgLy8gRGlzYWJsZSB0aGUgaW5wdXQgZWxlbWVudCBzaW5jZSBmdXJ0aGVyIHBpY2tzIGFyZSBub3QgYWxsb3dlZC4KICBpbnB1dEVsZW1lbnQuZGlzYWJsZWQgPSB0cnVlOwoKICBpZiAoIWZpbGVzKSB7CiAgICByZXR1cm4gewogICAgICByZXNwb25zZTogewogICAgICAgIGFjdGlvbjogJ2NvbXBsZXRlJywKICAgICAgfQogICAgfTsKICB9CgogIGZvciAoY29uc3QgZmlsZSBvZiBmaWxlcykgewogICAgY29uc3QgbGkgPSBkb2N1bWVudC5jcmVhdGVFbGVtZW50KCdsaScpOwogICAgbGkuYXBwZW5kKHNwYW4oZmlsZS5uYW1lLCB7Zm9udFdlaWdodDogJ2JvbGQnfSkpOwogICAgbGkuYXBwZW5kKHNwYW4oCiAgICAgICAgYCgke2ZpbGUudHlwZSB8fCAnbi9hJ30pIC0gJHtmaWxlLnNpemV9IGJ5dGVzLCBgICsKICAgICAgICBgbGFzdCBtb2RpZmllZDogJHsKICAgICAgICAgICAgZmlsZS5sYXN0TW9kaWZpZWREYXRlID8gZmlsZS5sYXN0TW9kaWZpZWREYXRlLnRvTG9jYWxlRGF0ZVN0cmluZygpIDoKICAgICAgICAgICAgICAgICAgICAgICAgICAgICAgICAgICAgJ24vYSd9IC0gYCkpOwogICAgY29uc3QgcGVyY2VudCA9IHNwYW4oJzAlIGRvbmUnKTsKICAgIGxpLmFwcGVuZENoaWxkKHBlcmNlbnQpOwoKICAgIG91dHB1dEVsZW1lbnQuYXBwZW5kQ2hpbGQobGkpOwoKICAgIGNvbnN0IGZpbGVEYXRhUHJvbWlzZSA9IG5ldyBQcm9taXNlKChyZXNvbHZlKSA9PiB7CiAgICAgIGNvbnN0IHJlYWRlciA9IG5ldyBGaWxlUmVhZGVyKCk7CiAgICAgIHJlYWRlci5vbmxvYWQgPSAoZSkgPT4gewogICAgICAgIHJlc29sdmUoZS50YXJnZXQucmVzdWx0KTsKICAgICAgfTsKICAgICAgcmVhZGVyLnJlYWRBc0FycmF5QnVmZmVyKGZpbGUpOwogICAgfSk7CiAgICAvLyBXYWl0IGZvciB0aGUgZGF0YSB0byBiZSByZWFkeS4KICAgIGxldCBmaWxlRGF0YSA9IHlpZWxkIHsKICAgICAgcHJvbWlzZTogZmlsZURhdGFQcm9taXNlLAogICAgICByZXNwb25zZTogewogICAgICAgIGFjdGlvbjogJ2NvbnRpbnVlJywKICAgICAgfQogICAgfTsKCiAgICAvLyBVc2UgYSBjaHVua2VkIHNlbmRpbmcgdG8gYXZvaWQgbWVzc2FnZSBzaXplIGxpbWl0cy4gU2VlIGIvNjIxMTU2NjAuCiAgICBsZXQgcG9zaXRpb24gPSAwOwogICAgZG8gewogICAgICBjb25zdCBsZW5ndGggPSBNYXRoLm1pbihmaWxlRGF0YS5ieXRlTGVuZ3RoIC0gcG9zaXRpb24sIE1BWF9QQVlMT0FEX1NJWkUpOwogICAgICBjb25zdCBjaHVuayA9IG5ldyBVaW50OEFycmF5KGZpbGVEYXRhLCBwb3NpdGlvbiwgbGVuZ3RoKTsKICAgICAgcG9zaXRpb24gKz0gbGVuZ3RoOwoKICAgICAgY29uc3QgYmFzZTY0ID0gYnRvYShTdHJpbmcuZnJvbUNoYXJDb2RlLmFwcGx5KG51bGwsIGNodW5rKSk7CiAgICAgIHlpZWxkIHsKICAgICAgICByZXNwb25zZTogewogICAgICAgICAgYWN0aW9uOiAnYXBwZW5kJywKICAgICAgICAgIGZpbGU6IGZpbGUubmFtZSwKICAgICAgICAgIGRhdGE6IGJhc2U2NCwKICAgICAgICB9LAogICAgICB9OwoKICAgICAgbGV0IHBlcmNlbnREb25lID0gZmlsZURhdGEuYnl0ZUxlbmd0aCA9PT0gMCA/CiAgICAgICAgICAxMDAgOgogICAgICAgICAgTWF0aC5yb3VuZCgocG9zaXRpb24gLyBmaWxlRGF0YS5ieXRlTGVuZ3RoKSAqIDEwMCk7CiAgICAgIHBlcmNlbnQudGV4dENvbnRlbnQgPSBgJHtwZXJjZW50RG9uZX0lIGRvbmVgOwoKICAgIH0gd2hpbGUgKHBvc2l0aW9uIDwgZmlsZURhdGEuYnl0ZUxlbmd0aCk7CiAgfQoKICAvLyBBbGwgZG9uZS4KICB5aWVsZCB7CiAgICByZXNwb25zZTogewogICAgICBhY3Rpb246ICdjb21wbGV0ZScsCiAgICB9CiAgfTsKfQoKc2NvcGUuZ29vZ2xlID0gc2NvcGUuZ29vZ2xlIHx8IHt9OwpzY29wZS5nb29nbGUuY29sYWIgPSBzY29wZS5nb29nbGUuY29sYWIgfHwge307CnNjb3BlLmdvb2dsZS5jb2xhYi5fZmlsZXMgPSB7CiAgX3VwbG9hZEZpbGVzLAogIF91cGxvYWRGaWxlc0NvbnRpbnVlLAp9Owp9KShzZWxmKTsK",
              "ok": true,
              "headers": [
                [
                  "content-type",
                  "application/javascript"
                ]
              ],
              "status": 200,
              "status_text": ""
            }
          },
          "base_uri": "https://localhost:8080/",
          "height": 480
        },
        "id": "tEMzFmWELI_V",
        "outputId": "41ee260e-d5ff-4111-f9ad-f01aed638c67"
      },
      "execution_count": 2,
      "outputs": [
        {
          "output_type": "display_data",
          "data": {
            "text/plain": [
              "<IPython.core.display.HTML object>"
            ],
            "text/html": [
              "\n",
              "     <input type=\"file\" id=\"files-2e764b92-8811-469f-bcaa-0a76dcaab70d\" name=\"files[]\" multiple disabled\n",
              "        style=\"border:none\" />\n",
              "     <output id=\"result-2e764b92-8811-469f-bcaa-0a76dcaab70d\">\n",
              "      Upload widget is only available when the cell has been executed in the\n",
              "      current browser session. Please rerun this cell to enable.\n",
              "      </output>\n",
              "      <script src=\"/nbextensions/google.colab/files.js\"></script> "
            ]
          },
          "metadata": {}
        },
        {
          "output_type": "stream",
          "name": "stdout",
          "text": [
            "Saving bengkel.xlsx to bengkel.xlsx\n"
          ]
        },
        {
          "output_type": "execute_result",
          "data": {
            "text/plain": [
              "     id  servis  harga\n",
              "0     1      58      7\n",
              "1     2      54      1\n",
              "2     3      98      2\n",
              "3     4      52      4\n",
              "4     5      11      4\n",
              "..  ...     ...    ...\n",
              "95   96      30      1\n",
              "96   97      25      3\n",
              "97   98      27     10\n",
              "98   99       8      6\n",
              "99  100      11      8\n",
              "\n",
              "[100 rows x 3 columns]"
            ],
            "text/html": [
              "\n",
              "  <div id=\"df-23bb86aa-4ca8-46f6-a693-4e56f671dd42\">\n",
              "    <div class=\"colab-df-container\">\n",
              "      <div>\n",
              "<style scoped>\n",
              "    .dataframe tbody tr th:only-of-type {\n",
              "        vertical-align: middle;\n",
              "    }\n",
              "\n",
              "    .dataframe tbody tr th {\n",
              "        vertical-align: top;\n",
              "    }\n",
              "\n",
              "    .dataframe thead th {\n",
              "        text-align: right;\n",
              "    }\n",
              "</style>\n",
              "<table border=\"1\" class=\"dataframe\">\n",
              "  <thead>\n",
              "    <tr style=\"text-align: right;\">\n",
              "      <th></th>\n",
              "      <th>id</th>\n",
              "      <th>servis</th>\n",
              "      <th>harga</th>\n",
              "    </tr>\n",
              "  </thead>\n",
              "  <tbody>\n",
              "    <tr>\n",
              "      <th>0</th>\n",
              "      <td>1</td>\n",
              "      <td>58</td>\n",
              "      <td>7</td>\n",
              "    </tr>\n",
              "    <tr>\n",
              "      <th>1</th>\n",
              "      <td>2</td>\n",
              "      <td>54</td>\n",
              "      <td>1</td>\n",
              "    </tr>\n",
              "    <tr>\n",
              "      <th>2</th>\n",
              "      <td>3</td>\n",
              "      <td>98</td>\n",
              "      <td>2</td>\n",
              "    </tr>\n",
              "    <tr>\n",
              "      <th>3</th>\n",
              "      <td>4</td>\n",
              "      <td>52</td>\n",
              "      <td>4</td>\n",
              "    </tr>\n",
              "    <tr>\n",
              "      <th>4</th>\n",
              "      <td>5</td>\n",
              "      <td>11</td>\n",
              "      <td>4</td>\n",
              "    </tr>\n",
              "    <tr>\n",
              "      <th>...</th>\n",
              "      <td>...</td>\n",
              "      <td>...</td>\n",
              "      <td>...</td>\n",
              "    </tr>\n",
              "    <tr>\n",
              "      <th>95</th>\n",
              "      <td>96</td>\n",
              "      <td>30</td>\n",
              "      <td>1</td>\n",
              "    </tr>\n",
              "    <tr>\n",
              "      <th>96</th>\n",
              "      <td>97</td>\n",
              "      <td>25</td>\n",
              "      <td>3</td>\n",
              "    </tr>\n",
              "    <tr>\n",
              "      <th>97</th>\n",
              "      <td>98</td>\n",
              "      <td>27</td>\n",
              "      <td>10</td>\n",
              "    </tr>\n",
              "    <tr>\n",
              "      <th>98</th>\n",
              "      <td>99</td>\n",
              "      <td>8</td>\n",
              "      <td>6</td>\n",
              "    </tr>\n",
              "    <tr>\n",
              "      <th>99</th>\n",
              "      <td>100</td>\n",
              "      <td>11</td>\n",
              "      <td>8</td>\n",
              "    </tr>\n",
              "  </tbody>\n",
              "</table>\n",
              "<p>100 rows × 3 columns</p>\n",
              "</div>\n",
              "      <button class=\"colab-df-convert\" onclick=\"convertToInteractive('df-23bb86aa-4ca8-46f6-a693-4e56f671dd42')\"\n",
              "              title=\"Convert this dataframe to an interactive table.\"\n",
              "              style=\"display:none;\">\n",
              "        \n",
              "  <svg xmlns=\"http://www.w3.org/2000/svg\" height=\"24px\"viewBox=\"0 0 24 24\"\n",
              "       width=\"24px\">\n",
              "    <path d=\"M0 0h24v24H0V0z\" fill=\"none\"/>\n",
              "    <path d=\"M18.56 5.44l.94 2.06.94-2.06 2.06-.94-2.06-.94-.94-2.06-.94 2.06-2.06.94zm-11 1L8.5 8.5l.94-2.06 2.06-.94-2.06-.94L8.5 2.5l-.94 2.06-2.06.94zm10 10l.94 2.06.94-2.06 2.06-.94-2.06-.94-.94-2.06-.94 2.06-2.06.94z\"/><path d=\"M17.41 7.96l-1.37-1.37c-.4-.4-.92-.59-1.43-.59-.52 0-1.04.2-1.43.59L10.3 9.45l-7.72 7.72c-.78.78-.78 2.05 0 2.83L4 21.41c.39.39.9.59 1.41.59.51 0 1.02-.2 1.41-.59l7.78-7.78 2.81-2.81c.8-.78.8-2.07 0-2.86zM5.41 20L4 18.59l7.72-7.72 1.47 1.35L5.41 20z\"/>\n",
              "  </svg>\n",
              "      </button>\n",
              "      \n",
              "  <style>\n",
              "    .colab-df-container {\n",
              "      display:flex;\n",
              "      flex-wrap:wrap;\n",
              "      gap: 12px;\n",
              "    }\n",
              "\n",
              "    .colab-df-convert {\n",
              "      background-color: #E8F0FE;\n",
              "      border: none;\n",
              "      border-radius: 50%;\n",
              "      cursor: pointer;\n",
              "      display: none;\n",
              "      fill: #1967D2;\n",
              "      height: 32px;\n",
              "      padding: 0 0 0 0;\n",
              "      width: 32px;\n",
              "    }\n",
              "\n",
              "    .colab-df-convert:hover {\n",
              "      background-color: #E2EBFA;\n",
              "      box-shadow: 0px 1px 2px rgba(60, 64, 67, 0.3), 0px 1px 3px 1px rgba(60, 64, 67, 0.15);\n",
              "      fill: #174EA6;\n",
              "    }\n",
              "\n",
              "    [theme=dark] .colab-df-convert {\n",
              "      background-color: #3B4455;\n",
              "      fill: #D2E3FC;\n",
              "    }\n",
              "\n",
              "    [theme=dark] .colab-df-convert:hover {\n",
              "      background-color: #434B5C;\n",
              "      box-shadow: 0px 1px 3px 1px rgba(0, 0, 0, 0.15);\n",
              "      filter: drop-shadow(0px 1px 2px rgba(0, 0, 0, 0.3));\n",
              "      fill: #FFFFFF;\n",
              "    }\n",
              "  </style>\n",
              "\n",
              "      <script>\n",
              "        const buttonEl =\n",
              "          document.querySelector('#df-23bb86aa-4ca8-46f6-a693-4e56f671dd42 button.colab-df-convert');\n",
              "        buttonEl.style.display =\n",
              "          google.colab.kernel.accessAllowed ? 'block' : 'none';\n",
              "\n",
              "        async function convertToInteractive(key) {\n",
              "          const element = document.querySelector('#df-23bb86aa-4ca8-46f6-a693-4e56f671dd42');\n",
              "          const dataTable =\n",
              "            await google.colab.kernel.invokeFunction('convertToInteractive',\n",
              "                                                     [key], {});\n",
              "          if (!dataTable) return;\n",
              "\n",
              "          const docLinkHtml = 'Like what you see? Visit the ' +\n",
              "            '<a target=\"_blank\" href=https://colab.research.google.com/notebooks/data_table.ipynb>data table notebook</a>'\n",
              "            + ' to learn more about interactive tables.';\n",
              "          element.innerHTML = '';\n",
              "          dataTable['output_type'] = 'display_data';\n",
              "          await google.colab.output.renderOutput(dataTable, element);\n",
              "          const docLink = document.createElement('div');\n",
              "          docLink.innerHTML = docLinkHtml;\n",
              "          element.appendChild(docLink);\n",
              "        }\n",
              "      </script>\n",
              "    </div>\n",
              "  </div>\n",
              "  "
            ]
          },
          "metadata": {},
          "execution_count": 2
        }
      ]
    },
    {
      "cell_type": "markdown",
      "source": [
        "# Linguistic Servis:\n",
        "\n",
        "\n",
        "*   Buruk = 1 - 30\n",
        "*   Sedang = 50 - 60\n",
        "*   Bagus = 80 - 100\n",
        "\n",
        "# Linguistic Harga:\n",
        "\n",
        "*   Murah = 1 - 3\n",
        "*   Sedang = 5 - 6\n",
        "*   Mahal = 8 - 10"
      ],
      "metadata": {
        "id": "W62FLf0TMiis"
      }
    },
    {
      "cell_type": "code",
      "source": [
        "def service():\n",
        "  x1 = [0, 30, 40, 80]\n",
        "  y1 = [1, 1, 0, 0]\n",
        "  \n",
        "  x2 = [0, 25 ,50, 60, 70, 80]\n",
        "  y2 = [0, 0, 1, 1, 0, 0]\n",
        "\n",
        "  x3 = [0, 65, 80, 100]\n",
        "  y3 = [0, 0, 1, 1]\n",
        "\n",
        "  plt.title(\"Service Quality\", fontsize=16)\n",
        "\n",
        "  plt.plot(x1, y1, label=\"Buruk\", color=\"red\")\n",
        "  plt.plot(x2, y2, label=\"Sedang\", color=\"blue\")\n",
        "  plt.plot(x3, y3, label=\"Bagus\", color=\"green\")\n",
        "\n",
        "  plt.legend()\n",
        "  plt.show()\n",
        "\n",
        "def price():\n",
        "  x1 = [0, 3, 4, 8]\n",
        "  y1 = [1, 1, 0, 0]\n",
        "  \n",
        "  x2 = [0, 2.5 ,5, 6, 7, 8]\n",
        "  y2 = [0, 0, 1, 1, 0, 0]\n",
        "\n",
        "  x3 = [0, 6.5, 8, 10]\n",
        "  y3 = [0, 0, 1, 1]\n",
        "\n",
        "  plt.title(\"Price\", fontsize=16)\n",
        "\n",
        "  plt.plot(x1, y1, label=\"Murah\", color=\"lime\")\n",
        "  plt.plot(x2, y2, label=\"Sedang\", color=\"deeppink\")\n",
        "  plt.plot(x3, y3, label=\"Mahal\", color=\"aqua\")\n",
        "\n",
        "  plt.legend()\n",
        "  plt.show()\n",
        "\n",
        "service()\n",
        "print(\"\")\n",
        "price()"
      ],
      "metadata": {
        "id": "yoxIcLk3MgWc",
        "colab": {
          "base_uri": "https://localhost:8080/",
          "height": 566
        },
        "outputId": "8dfa8c6d-cec3-4ae1-a375-29bd2bbe1cac"
      },
      "execution_count": 3,
      "outputs": [
        {
          "output_type": "display_data",
          "data": {
            "text/plain": [
              "<Figure size 432x288 with 1 Axes>"
            ],
            "image/png": "[encoded data removed]"
          },
          "metadata": {
            "needs_background": "light"
          }
        },
        {
          "output_type": "stream",
          "name": "stdout",
          "text": [
            "\n"
          ]
        },
        {
          "output_type": "display_data",
          "data": {
            "text/plain": [
              "<Figure size 432x288 with 1 Axes>"
            ],
            "image/png": "[encoded data removed]"
          },
          "metadata": {
            "needs_background": "light"
          }
        }
      ]
    },
    {
      "cell_type": "code",
      "source": [
        "# Membership Service\n",
        "def serv_member_buruk(data):\n",
        "  if data <= 30:\n",
        "    return 1\n",
        "  elif data > 40:\n",
        "    return 0\n",
        "  elif data > 30 and data <= 40:\n",
        "    return (40 - data) / (40 - 30)\n",
        "\n",
        "def serv_member_sedang(data):\n",
        "  if data <= 25 or data >= 70:\n",
        "    return 0\n",
        "  elif data >= 50 and data <= 60:\n",
        "    return 1\n",
        "  elif data >= 25 and data < 50:\n",
        "    return (data - 25) / (50 - 25)\n",
        "  elif data > 60 and data < 70:\n",
        "    return (70 - data) / (70 - 60)\n",
        "\n",
        "def serv_member_bagus(data):\n",
        "  if data <= 65:\n",
        "    return 0\n",
        "  elif data >= 80:\n",
        "    return 1\n",
        "  elif data > 65 and data <= 80:\n",
        "    return (data - 65) / (80 - 65)\n",
        "\n",
        "# Membership Price\n",
        "def price_member_murah(data):\n",
        "  if data <= 3:\n",
        "    return 1\n",
        "  elif data > 4:\n",
        "    return 0\n",
        "  elif data > 3 and data <= 4:\n",
        "    return (4 - data) / (4 - 3)\n",
        "\n",
        "def price_member_sedang(data):\n",
        "  if data <= 2.5 or data >= 7:\n",
        "    return 0\n",
        "  elif data >= 5 and data <= 6:\n",
        "    return 1\n",
        "  elif data >= 2.5 and data < 5:\n",
        "    return (data - 2.5) / (5 - 2.5)\n",
        "  elif data > 6 and data < 7:\n",
        "    return (7 - data) / (7 - 6)\n",
        "\n",
        "def price_member_mahal(data):\n",
        "  if data <= 6.5:\n",
        "    return 0\n",
        "  elif data >= 8:\n",
        "    return 1\n",
        "  elif data > 6.5 and data <= 8:\n",
        "    return (data - 6.5) / (8 - 6.5)"
      ],
      "metadata": {
        "id": "S5YTaJdyPx4D"
      },
      "execution_count": 4,
      "outputs": []
    },
    {
      "cell_type": "code",
      "source": [
        "def fuzzy_serv(data):\n",
        "  service = {\n",
        "      'buruk' : serv_member_buruk(data),\n",
        "      'sedang' : serv_member_sedang(data),\n",
        "      'bagus' : serv_member_bagus(data)\n",
        "  }\n",
        "  return service\n",
        "\n",
        "def fuzzy_price(data):\n",
        "  price = {\n",
        "      'murah' : price_member_murah(data),\n",
        "      'sedang' : price_member_sedang(data),\n",
        "      'mahal' : price_member_mahal(data)\n",
        "  }\n",
        "  return price"
      ],
      "metadata": {
        "id": "Cp5skvbbWIni"
      },
      "execution_count": 5,
      "outputs": []
    },
    {
      "cell_type": "markdown",
      "source": [
        "# Fuzzy Rules\n",
        "\n",
        "![image.png](data:image/png;base64,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)"
      ],
      "metadata": {
        "id": "0jKx_eoRV4cZ"
      }
    },
    {
      "cell_type": "code",
      "source": [
        "def inference(serv_value, price_value):\n",
        "  rules = {\n",
        "      'Not Recommend' : [],\n",
        "      'Recommend' : []\n",
        "  }\n",
        "\n",
        "  result = {\n",
        "      'Not Recommend' : [],\n",
        "      'Recommend' : []\n",
        "  }\n",
        "\n",
        "  rules[\"Not Recommend\"].append(min(serv_value['buruk'], price_value['sedang']))\n",
        "  rules[\"Not Recommend\"].append(min(serv_value['buruk'], price_value['mahal']))\n",
        "  rules[\"Not Recommend\"].append(min(serv_value['sedang'], price_value['mahal']))\n",
        "\n",
        "  rules[\"Recommend\"].append(min(serv_value['buruk'], price_value['murah']))\n",
        "  rules[\"Recommend\"].append(min(serv_value['sedang'], price_value['murah']))\n",
        "  rules[\"Recommend\"].append(min(serv_value['sedang'], price_value['sedang']))\n",
        "  rules[\"Recommend\"].append(min(serv_value['bagus'], price_value['murah']))\n",
        "  rules[\"Recommend\"].append(min(serv_value['bagus'], price_value['sedang']))\n",
        "  rules[\"Recommend\"].append(min(serv_value['bagus'], price_value['mahal']))\n",
        "\n",
        "  result[\"Not Recommend\"].append(max(rules[\"Not Recommend\"]))\n",
        "  result[\"Recommend\"].append(max(rules[\"Recommend\"]))\n",
        "\n",
        "  return result"
      ],
      "metadata": {
        "id": "ol78k5_zYGDA"
      },
      "execution_count": 6,
      "outputs": []
    },
    {
      "cell_type": "markdown",
      "source": [
        "# Deffuzification - Takagi Sugeno Method\n",
        "\n",
        "*   Not Recommend = 50\n",
        "*   Recommend = 100"
      ],
      "metadata": {
        "id": "PCBBxPnhfsP2"
      }
    },
    {
      "cell_type": "code",
      "source": [
        "def sugeno():\n",
        "  plt.title(\"Deffuzification\", fontsize=16)\n",
        "  plt.vlines(50, 0, 100, linestyles=\"dotted\", colors =\"r\", label=\"Not Recommend\")\n",
        "  plt.vlines(100, 0, 100, linestyles=\"dotted\", colors =\"b\", label=\"Recommend\")\n",
        "  plt.legend()\n",
        "  plt.show()\n",
        "\n",
        "sugeno()"
      ],
      "metadata": {
        "colab": {
          "base_uri": "https://localhost:8080/",
          "height": 283
        },
        "id": "G5SkmRDYyDsv",
        "outputId": "d90ceb46-3601-40d5-9f6e-cf0db16bb3fd"
      },
      "execution_count": 7,
      "outputs": [
        {
          "output_type": "display_data",
          "data": {
            "text/plain": [
              "<Figure size 432x288 with 1 Axes>"
            ],
            "image/png": "[encoded data removed]"
          },
          "metadata": {
            "needs_background": "light"
          }
        }
      ]
    },
    {
      "cell_type": "code",
      "source": [
        "def deffuzification(rules):\n",
        "  rec = 100\n",
        "  not_rec = 50\n",
        "\n",
        "  for i in rules.values():\n",
        "    for j in range(len(i)):\n",
        "      result = ((rules['Not Recommend'][j] * not_rec) +  (rules['Recommend'][j] * rec)) / (rules['Not Recommend'][j] + rules['Recommend'][j])\n",
        "  return result"
      ],
      "metadata": {
        "id": "LISWmZZcf8Re"
      },
      "execution_count": 8,
      "outputs": []
    },
    {
      "cell_type": "code",
      "source": [
        "data = dataset.to_numpy()\n",
        "\n",
        "result = []\n",
        "for i in range(len(data)):\n",
        "  inf = inference(fuzzy_serv(data[i, 1]),fuzzy_price(data[i, 2]))\n",
        "  deffuzy = deffuzification(inf)\n",
        "  temp = [i + 1, deffuzy]\n",
        "  result.append(temp)\n",
        "\n",
        "\n",
        "result.sort(key =  lambda x: x[1], reverse=True)\n",
        "\n",
        "best10 = result[:10]\n",
        "\n",
        "best = pd.DataFrame(best10, columns=['ID', 'Score'])\n",
        "best.to_excel('peringkat.xlsx', index=False)\n",
        "\n",
        "peringkat = pd.read_excel(\"peringkat.xlsx\")\n",
        "peringkat"
      ],
      "metadata": {
        "id": "f45r7llEjV20",
        "colab": {
          "base_uri": "https://localhost:8080/",
          "height": 363
        },
        "outputId": "0067c98d-de38-4353-90a7-ee1477b0928d"
      },
      "execution_count": 9,
      "outputs": [
        {
          "output_type": "execute_result",
          "data": {
            "text/plain": [
              "   ID  Score\n",
              "0   2    100\n",
              "1   3    100\n",
              "2   4    100\n",
              "3   9    100\n",
              "4  13    100\n",
              "5  15    100\n",
              "6  16    100\n",
              "7  21    100\n",
              "8  22    100\n",
              "9  24    100"
            ],
            "text/html": [
              "\n",
              "  <div id=\"df-718c034f-7f11-45a9-8070-58a0df8a25ed\">\n",
              "    <div class=\"colab-df-container\">\n",
              "      <div>\n",
              "<style scoped>\n",
              "    .dataframe tbody tr th:only-of-type {\n",
              "        vertical-align: middle;\n",
              "    }\n",
              "\n",
              "    .dataframe tbody tr th {\n",
              "        vertical-align: top;\n",
              "    }\n",
              "\n",
              "    .dataframe thead th {\n",
              "        text-align: right;\n",
              "    }\n",
              "</style>\n",
              "<table border=\"1\" class=\"dataframe\">\n",
              "  <thead>\n",
              "    <tr style=\"text-align: right;\">\n",
              "      <th></th>\n",
              "      <th>ID</th>\n",
              "      <th>Score</th>\n",
              "    </tr>\n",
              "  </thead>\n",
              "  <tbody>\n",
              "    <tr>\n",
              "      <th>0</th>\n",
              "      <td>2</td>\n",
              "      <td>100</td>\n",
              "    </tr>\n",
              "    <tr>\n",
              "      <th>1</th>\n",
              "      <td>3</td>\n",
              "      <td>100</td>\n",
              "    </tr>\n",
              "    <tr>\n",
              "      <th>2</th>\n",
              "      <td>4</td>\n",
              "      <td>100</td>\n",
              "    </tr>\n",
              "    <tr>\n",
              "      <th>3</th>\n",
              "      <td>9</td>\n",
              "      <td>100</td>\n",
              "    </tr>\n",
              "    <tr>\n",
              "      <th>4</th>\n",
              "      <td>13</td>\n",
              "      <td>100</td>\n",
              "    </tr>\n",
              "    <tr>\n",
              "      <th>5</th>\n",
              "      <td>15</td>\n",
              "      <td>100</td>\n",
              "    </tr>\n",
              "    <tr>\n",
              "      <th>6</th>\n",
              "      <td>16</td>\n",
              "      <td>100</td>\n",
              "    </tr>\n",
              "    <tr>\n",
              "      <th>7</th>\n",
              "      <td>21</td>\n",
              "      <td>100</td>\n",
              "    </tr>\n",
              "    <tr>\n",
              "      <th>8</th>\n",
              "      <td>22</td>\n",
              "      <td>100</td>\n",
              "    </tr>\n",
              "    <tr>\n",
              "      <th>9</th>\n",
              "      <td>24</td>\n",
              "      <td>100</td>\n",
              "    </tr>\n",
              "  </tbody>\n",
              "</table>\n",
              "</div>\n",
              "      <button class=\"colab-df-convert\" onclick=\"convertToInteractive('df-718c034f-7f11-45a9-8070-58a0df8a25ed')\"\n",
              "              title=\"Convert this dataframe to an interactive table.\"\n",
              "              style=\"display:none;\">\n",
              "        \n",
              "  <svg xmlns=\"http://www.w3.org/2000/svg\" height=\"24px\"viewBox=\"0 0 24 24\"\n",
              "       width=\"24px\">\n",
              "    <path d=\"M0 0h24v24H0V0z\" fill=\"none\"/>\n",
              "    <path d=\"M18.56 5.44l.94 2.06.94-2.06 2.06-.94-2.06-.94-.94-2.06-.94 2.06-2.06.94zm-11 1L8.5 8.5l.94-2.06 2.06-.94-2.06-.94L8.5 2.5l-.94 2.06-2.06.94zm10 10l.94 2.06.94-2.06 2.06-.94-2.06-.94-.94-2.06-.94 2.06-2.06.94z\"/><path d=\"M17.41 7.96l-1.37-1.37c-.4-.4-.92-.59-1.43-.59-.52 0-1.04.2-1.43.59L10.3 9.45l-7.72 7.72c-.78.78-.78 2.05 0 2.83L4 21.41c.39.39.9.59 1.41.59.51 0 1.02-.2 1.41-.59l7.78-7.78 2.81-2.81c.8-.78.8-2.07 0-2.86zM5.41 20L4 18.59l7.72-7.72 1.47 1.35L5.41 20z\"/>\n",
              "  </svg>\n",
              "      </button>\n",
              "      \n",
              "  <style>\n",
              "    .colab-df-container {\n",
              "      display:flex;\n",
              "      flex-wrap:wrap;\n",
              "      gap: 12px;\n",
              "    }\n",
              "\n",
              "    .colab-df-convert {\n",
              "      background-color: #E8F0FE;\n",
              "      border: none;\n",
              "      border-radius: 50%;\n",
              "      cursor: pointer;\n",
              "      display: none;\n",
              "      fill: #1967D2;\n",
              "      height: 32px;\n",
              "      padding: 0 0 0 0;\n",
              "      width: 32px;\n",
              "    }\n",
              "\n",
              "    .colab-df-convert:hover {\n",
              "      background-color: #E2EBFA;\n",
              "      box-shadow: 0px 1px 2px rgba(60, 64, 67, 0.3), 0px 1px 3px 1px rgba(60, 64, 67, 0.15);\n",
              "      fill: #174EA6;\n",
              "    }\n",
              "\n",
              "    [theme=dark] .colab-df-convert {\n",
              "      background-color: #3B4455;\n",
              "      fill: #D2E3FC;\n",
              "    }\n",
              "\n",
              "    [theme=dark] .colab-df-convert:hover {\n",
              "      background-color: #434B5C;\n",
              "      box-shadow: 0px 1px 3px 1px rgba(0, 0, 0, 0.15);\n",
              "      filter: drop-shadow(0px 1px 2px rgba(0, 0, 0, 0.3));\n",
              "      fill: #FFFFFF;\n",
              "    }\n",
              "  </style>\n",
              "\n",
              "      <script>\n",
              "        const buttonEl =\n",
              "          document.querySelector('#df-718c034f-7f11-45a9-8070-58a0df8a25ed button.colab-df-convert');\n",
              "        buttonEl.style.display =\n",
              "          google.colab.kernel.accessAllowed ? 'block' : 'none';\n",
              "\n",
              "        async function convertToInteractive(key) {\n",
              "          const element = document.querySelector('#df-718c034f-7f11-45a9-8070-58a0df8a25ed');\n",
              "          const dataTable =\n",
              "            await google.colab.kernel.invokeFunction('convertToInteractive',\n",
              "                                                     [key], {});\n",
              "          if (!dataTable) return;\n",
              "\n",
              "          const docLinkHtml = 'Like what you see? Visit the ' +\n",
              "            '<a target=\"_blank\" href=https://colab.research.google.com/notebooks/data_table.ipynb>data table notebook</a>'\n",
              "            + ' to learn more about interactive tables.';\n",
              "          element.innerHTML = '';\n",
              "          dataTable['output_type'] = 'display_data';\n",
              "          await google.colab.output.renderOutput(dataTable, element);\n",
              "          const docLink = document.createElement('div');\n",
              "          docLink.innerHTML = docLinkHtml;\n",
              "          element.appendChild(docLink);\n",
              "        }\n",
              "      </script>\n",
              "    </div>\n",
              "  </div>\n",
              "  "
            ]
          },
          "metadata": {},
          "execution_count": 9
        }
      ]
    }
  ]
}